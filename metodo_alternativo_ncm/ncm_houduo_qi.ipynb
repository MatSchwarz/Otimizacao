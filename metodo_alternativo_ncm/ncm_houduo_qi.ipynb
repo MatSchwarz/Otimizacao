{
 "cells": [
  {
   "cell_type": "code",
   "execution_count": 2,
   "metadata": {},
   "outputs": [],
   "source": [
    "import numpy as np\n",
    "import scipy.io as sio\n",
    "import scipy\n",
    "import sys\n",
    "import time"
   ]
  },
  {
   "cell_type": "code",
   "execution_count": 1,
   "metadata": {},
   "outputs": [],
   "source": [
    "def my_gradient(y_input, lamb, p_input, b_0, n):\n",
    "\tf = 0.0\n",
    "\tFy = np.zeros((n, 1))\n",
    "\tp_input_copy = (p_input.copy()).transpose()\n",
    "\tfor i in range(0,n):\n",
    "\t\tp_input_copy[i, :] = ((np.maximum(lamb[i],0).astype(float))**0.5)*p_input_copy[i, :]\n",
    "\n",
    "\tfor i in range(0,n):\n",
    "\t\tFy[i] = np.sum(p_input_copy[:, i]*p_input_copy[:, i])\n",
    "\n",
    "\tfor i in range(0,n):\n",
    "\t\tf = f + np.square((np.maximum(lamb[i],0)))\n",
    "\n",
    "\tf = 0.5*f - np.dot(b_0.transpose(), y_input)\n",
    "\n",
    "\treturn f, Fy\n"
   ]
  },
  {
   "cell_type": "code",
   "execution_count": null,
   "metadata": {},
   "outputs": [],
   "source": []
  }
 ],
 "metadata": {
  "kernelspec": {
   "display_name": "base",
   "language": "python",
   "name": "python3"
  },
  "language_info": {
   "codemirror_mode": {
    "name": "ipython",
    "version": 3
   },
   "file_extension": ".py",
   "mimetype": "text/x-python",
   "name": "python",
   "nbconvert_exporter": "python",
   "pygments_lexer": "ipython3",
   "version": "3.12.2"
  }
 },
 "nbformat": 4,
 "nbformat_minor": 2
}
