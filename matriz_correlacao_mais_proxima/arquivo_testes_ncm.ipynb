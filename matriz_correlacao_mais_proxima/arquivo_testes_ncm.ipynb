{
 "cells": [
  {
   "cell_type": "code",
   "execution_count": 48,
   "metadata": {},
   "outputs": [],
   "source": [
    "import pandas as pd\n",
    "import numpy as np\n",
    "import scipy.stats\n",
    "from scipy import linalg\n",
    "import algoritmo_ncm as ncm\n",
    "import sys\n",
    "import os"
   ]
  },
  {
   "cell_type": "code",
   "execution_count": 49,
   "metadata": {},
   "outputs": [],
   "source": [
    "\n",
    "class HiddenPrints:\n",
    "    \"\"\"Classe que desabilita prints dentro de funções\"\"\"\n",
    "    def __enter__(self):\n",
    "        self._original_stdout = sys.stdout\n",
    "        sys.stdout = open(os.devnull, 'w')\n",
    "\n",
    "    def __exit__(self, exc_type, exc_val, exc_tb):\n",
    "        sys.stdout.close()\n",
    "        sys.stdout = self._original_stdout"
   ]
  },
  {
   "cell_type": "code",
   "execution_count": 50,
   "metadata": {},
   "outputs": [],
   "source": [
    "def gera_matrizes(n):\n",
    "    #Devolve uma matriz inicial e a que queremos achar a ncm\n",
    "    x = np.random.randn(n, n)\n",
    "    g = np.random.randn(n, n)\n",
    "\n",
    "    #A matriz a qual queremos encontrar a ncm mais proxima precisa ser simétrica \n",
    "    g = g@g.T\n",
    "    return x,g "
   ]
  },
  {
   "cell_type": "code",
   "execution_count": 51,
   "metadata": {},
   "outputs": [],
   "source": [
    "def teste_solução(x,g,max_iter,tol):\n",
    "#Função testa se a solução é valida\n",
    "    x, iter = ncm.sm_ncm(x,g,max_iter,tol)\n",
    "    if np.any(np.linalg.eigvals(x)) < -tol:\n",
    "        print(\"não resolve\")\n",
    "    else: \n",
    "        print(\"resolve\")"
   ]
  },
  {
   "cell_type": "code",
   "execution_count": 52,
   "metadata": {},
   "outputs": [],
   "source": [
    "def media_iter(n,laps,max_iter,tol):\n",
    "    lista_iter = []\n",
    "    for i in range(laps):\n",
    "        x,g  = gera_matrizes(n)\n",
    "        with HiddenPrints():\n",
    "            x, iter = ncm.sm_ncm(x,g,max_iter,tol)\n",
    "        lista_iter.append(iter)\n",
    "    media = np.mean(np.array(lista_iter))\n",
    "    return lista_iter, media\n"
   ]
  },
  {
   "cell_type": "code",
   "execution_count": 64,
   "metadata": {},
   "outputs": [
    {
     "name": "stdout",
     "output_type": "stream",
     "text": [
      "13 s ± 64.4 ms per loop (mean ± std. dev. of 7 runs, 1 loop each)\n"
     ]
    }
   ],
   "source": [
    "# Gerar as matrizes fora do bloco timeit\n",
    "n = 30\n",
    "laps = 100\n",
    "lista_g = []\n",
    "lista_x0 = []\n",
    "for i in range(laps):\n",
    "    x0, g = gera_matrizes(n)\n",
    "    lista_g.append(g)\n",
    "    lista_x0.append(x0)\n",
    "\n",
    "def mede_tempo(lista_x0,lista_g,laps,max_iter,tol):\n",
    "    \"\"\"Uma função que mede o tempo sem gerar as matrizes nem os vetores,o resultado é o tempo\n",
    "    de 100 iterações\"\"\"\n",
    "    with HiddenPrints():\n",
    "        for i in range(laps):\n",
    "            x, iter = ncm.sm_ncm(lista_x0[i],lista_g[i],max_iter,0.00001)\n",
    "    return x\n",
    "\n",
    "%timeit mede_tempo(lista_x0,lista_g,100,2000,0.00001)"
   ]
  },
  {
   "cell_type": "code",
   "execution_count": null,
   "metadata": {},
   "outputs": [],
   "source": []
  }
 ],
 "metadata": {
  "kernelspec": {
   "display_name": "base",
   "language": "python",
   "name": "python3"
  },
  "language_info": {
   "codemirror_mode": {
    "name": "ipython",
    "version": 3
   },
   "file_extension": ".py",
   "mimetype": "text/x-python",
   "name": "python",
   "nbconvert_exporter": "python",
   "pygments_lexer": "ipython3",
   "version": "3.12.2"
  }
 },
 "nbformat": 4,
 "nbformat_minor": 2
}
