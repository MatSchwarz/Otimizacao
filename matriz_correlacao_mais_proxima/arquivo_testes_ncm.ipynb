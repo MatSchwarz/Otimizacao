{
 "cells": [
  {
   "cell_type": "code",
   "execution_count": 1,
   "metadata": {},
   "outputs": [],
   "source": [
    "import pandas as pd\n",
    "import numpy as np\n",
    "import scipy.stats\n",
    "from scipy import linalg\n",
    "import algoritmo_ncm as ncm\n",
    "import sys\n",
    "import os"
   ]
  },
  {
   "cell_type": "code",
   "execution_count": 2,
   "metadata": {},
   "outputs": [],
   "source": [
    "# Disabilita a função print\n",
    "def blockprint():\n",
    "    sys.stdout = open(os.devnull, 'w')\n",
    "\n",
    "# Habilita a função print\n",
    "def enableprint():\n",
    "    sys.stdout = sys.__stdout__\n"
   ]
  },
  {
   "cell_type": "code",
   "execution_count": 3,
   "metadata": {},
   "outputs": [],
   "source": [
    "def gera_matrizes(n):\n",
    "    #Devolve uma matriz inicial e a que queremos achar a ncm\n",
    "    x = np.random.randn(n, n)\n",
    "    g = np.random.randn(n, n)\n",
    "\n",
    "    #A matriz a qual queremos encontrar a ncm mais proxima precisa ser simétrica \n",
    "    g = g@g.T\n",
    "    return x,g "
   ]
  },
  {
   "cell_type": "code",
   "execution_count": 4,
   "metadata": {},
   "outputs": [],
   "source": [
    "def teste_solução(x,g,max_iter,tol):\n",
    "#Função testa se a solução é valida\n",
    "    x, iter = ncm.sm_ncm(x,g,max_iter,tol)\n",
    "    if np.any(np.linalg.eigvals(x)) < -tol:\n",
    "        print(\"não resolve\")\n",
    "    else: \n",
    "        print(\"resolve\")"
   ]
  },
  {
   "cell_type": "code",
   "execution_count": 25,
   "metadata": {},
   "outputs": [],
   "source": [
    "def media_iter(n,laps,max_iter,tol):\n",
    "    lista_iter = []\n",
    "    for i in range(laps):\n",
    "        x,g  = gera_matrizes(n)\n",
    "        x, iter = ncm.sm_ncm(x,g,max_iter,tol)\n",
    "        lista_iter.append(iter)\n",
    "    media = np.mean(np.array(lista_iter))\n",
    "    return lista_iter, media\n"
   ]
  },
  {
   "cell_type": "code",
   "execution_count": null,
   "metadata": {},
   "outputs": [],
   "source": [
    "lista, mean = media_iter(50,100,100,0.00001)"
   ]
  },
  {
   "cell_type": "code",
   "execution_count": null,
   "metadata": {},
   "outputs": [],
   "source": []
  }
 ],
 "metadata": {
  "kernelspec": {
   "display_name": "base",
   "language": "python",
   "name": "python3"
  },
  "language_info": {
   "codemirror_mode": {
    "name": "ipython",
    "version": 3
   },
   "file_extension": ".py",
   "mimetype": "text/x-python",
   "name": "python",
   "nbconvert_exporter": "python",
   "pygments_lexer": "ipython3",
   "version": "3.12.2"
  }
 },
 "nbformat": 4,
 "nbformat_minor": 2
}
