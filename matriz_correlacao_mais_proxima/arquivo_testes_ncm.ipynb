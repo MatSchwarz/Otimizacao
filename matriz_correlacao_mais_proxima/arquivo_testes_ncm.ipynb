{
 "cells": [
  {
   "cell_type": "code",
   "execution_count": 48,
   "metadata": {},
   "outputs": [],
   "source": [
    "import pandas as pd\n",
    "import numpy as np\n",
    "import scipy.stats\n",
    "from scipy import linalg\n",
    "import algoritmo_ncm as ncm\n",
    "import sys\n",
    "import os"
   ]
  },
  {
   "cell_type": "code",
   "execution_count": 49,
   "metadata": {},
   "outputs": [],
   "source": [
    "\n",
    "class HiddenPrints:\n",
    "    \"\"\"Classe que desabilita prints dentro de funções\"\"\"\n",
    "    def __enter__(self):\n",
    "        self._original_stdout = sys.stdout\n",
    "        sys.stdout = open(os.devnull, 'w')\n",
    "\n",
    "    def __exit__(self, exc_type, exc_val, exc_tb):\n",
    "        sys.stdout.close()\n",
    "        sys.stdout = self._original_stdout"
   ]
  },
  {
   "cell_type": "code",
   "execution_count": 50,
   "metadata": {},
   "outputs": [],
   "source": [
    "def gera_matrizes(n):\n",
    "    #Devolve uma matriz inicial e a que queremos achar a ncm\n",
    "    x = np.random.randn(n, n)\n",
    "    g = np.random.randn(n, n)\n",
    "\n",
    "    #A matriz a qual queremos encontrar a ncm mais proxima precisa ser simétrica \n",
    "    g = g@g.T\n",
    "    return x,g "
   ]
  },
  {
   "cell_type": "code",
   "execution_count": 51,
   "metadata": {},
   "outputs": [],
   "source": [
    "def teste_solução(x,g,max_iter,tol):\n",
    "#Função testa se a solução é valida\n",
    "    x, iter = ncm.sm_ncm(x,g,max_iter,tol)\n",
    "    if np.any(np.linalg.eigvals(x)) < -tol:\n",
    "        print(\"não resolve\")\n",
    "    else: \n",
    "        print(\"resolve\")"
   ]
  },
  {
   "cell_type": "code",
   "execution_count": 52,
   "metadata": {},
   "outputs": [],
   "source": [
    "def media_iter(n,laps,max_iter,tol):\n",
    "    lista_iter = []\n",
    "    for i in range(laps):\n",
    "        x,g  = gera_matrizes(n)\n",
    "        with HiddenPrints():\n",
    "            x, iter = ncm.sm_ncm(x,g,max_iter,tol)\n",
    "        lista_iter.append(iter)\n",
    "    media = np.mean(np.array(lista_iter))\n",
    "    return lista_iter, media\n"
   ]
  },
  {
   "cell_type": "code",
   "execution_count": 64,
   "metadata": {},
   "outputs": [
    {
     "name": "stdout",
     "output_type": "stream",
     "text": [
      "13 s ± 64.4 ms per loop (mean ± std. dev. of 7 runs, 1 loop each)\n"
     ]
    }
   ],
   "source": [
    "# Gerar as matrizes fora do bloco timeit\n",
    "n = 30\n",
    "laps = 100\n",
    "lista_g = []\n",
    "lista_x0 = []\n",
    "for i in range(laps):\n",
    "    x0, g = gera_matrizes(n)\n",
    "    lista_g.append(g)\n",
    "    lista_x0.append(x0)\n",
    "\n",
    "def mede_tempo(lista_x0,lista_g,laps,max_iter,tol):\n",
    "    \"\"\"Uma função que mede o tempo sem gerar as matrizes nem os vetores,o resultado é o tempo\n",
    "    de 100 iterações\"\"\"\n",
    "    with HiddenPrints():\n",
    "        for i in range(laps):\n",
    "            x, iter = ncm.sm_ncm(lista_x0[i],lista_g[i],max_iter,0.00001)\n",
    "    return x\n",
    "\n",
    "%timeit mede_tempo(lista_x0,lista_g,100,2000,0.00001)"
   ]
  },
  {
   "cell_type": "code",
   "execution_count": 18,
   "metadata": {},
   "outputs": [],
   "source": [
    "import numpy as np\n",
    "from func_auxiliares_ncm import *\n",
    "\n",
    "\n",
    "def atualiza_diag_x(x, g):\n",
    "    \"\"\"Função responsável por fazer uma iteração do algoritmo\"\"\"\n",
    "    df = np.linalg.inv(np.diag(np.diag(derivada_clarke(x))))@(e(x) - np.diag(derivada_clarke(x)@sem_diag_g(g)))\n",
    "    return df\n",
    "\n",
    "\n",
    "def nearest_correlation_matrix(x_input, g_input, iter = 1000, tol = 10**(-6)):\n",
    "    \"\"\"Algoritmo de Nearest Correlation Matrix\"\"\"\n",
    "    iteracao = 1\n",
    "    X_anterior = x_input\n",
    "    X_atual = np.diag(atualiza_diag_x(X_anterior, g_input)) + sem_diag_g(g_input)\n",
    "\n",
    "    while iteracao < iter:\n",
    "        iteracao = iteracao + 1\n",
    "        print(\"iteracao\", iteracao - 1)\n",
    "        print(derivada_clarke(X_anterior) @ X_atual)\n",
    "        X_anterior = X_atual\n",
    "        X_atual = np.diag(atualiza_diag_x(X_anterior, g_input)) + sem_diag_g(g_input)\n",
    "\n",
    "       # if np.linalg.norm(np.diag(derivada_clarke(X_atual) @ X_atual) - e(X_atual)) < tol:\n",
    "       #     break\n",
    "        if np.linalg.norm(derivada_clarke(X_atual) - derivada_clarke(X_anterior)) < tol:\n",
    "            break      \n",
    "        \n",
    "    return derivada_clarke(X_anterior) @ X_atual, iteracao"
   ]
  },
  {
   "cell_type": "code",
   "execution_count": 29,
   "metadata": {},
   "outputs": [],
   "source": [
    "import numpy as np\n",
    "\n",
    "def projecao_S(R):\n",
    "\n",
    "    eigvals, eigvecs = np.linalg.eigh(R)\n",
    "    eigvals[eigvals < 0] = 0\n",
    "    return eigvecs @ np.diag(eigvals) @ eigvecs.T\n",
    "\n",
    "def projecao_U(Y):\n",
    "\n",
    "    np.fill_diagonal(Y, 1)\n",
    "    return Y\n",
    "\n",
    "def projecoes_alternadas(G, max_iteracoes=1000):\n",
    "\n",
    "    delta_S = np.zeros_like(G)\n",
    "    X = G.copy()\n",
    "\n",
    "    \n",
    "    \n",
    "    for k in range(1, max_iteracoes + 1):\n",
    "        print(k)\n",
    "        X_anterior = X.copy()\n",
    "\n",
    "        R = X - delta_S\n",
    "        \n",
    "        # Projeta no subconjunto semidefinido\n",
    "        Y = projecao_S(R)\n",
    "        \n",
    "        delta_S = Y - R\n",
    "        \n",
    "        # Projeta no subconjunto de diagonal unitária\n",
    "        X = projecao_U(Y)\n",
    "        \n",
    "        # Critério de parada\n",
    "        if np.linalg.norm(X - X_anterior) / np.linalg.norm(X) < 1e-6:\n",
    "            break\n",
    "        \n",
    "        X_anterior = X.copy()\n",
    "    return X\n",
    "\n"
   ]
  },
  {
   "cell_type": "code",
   "execution_count": null,
   "metadata": {},
   "outputs": [],
   "source": [
    "#crie uma matriz G 4x4 e teste com as funções projeções alternadas e sm_ncm\n",
    "G = np.random.randn(4, 4)\n",
    "G = G @ G.T\n",
    "X = projecoes_alternadas(G)\n",
    "print(X)\n",
    "X, iter = nearest_correlation_matrix(X, G, 1000, 1e-6)\n",
    "print(X)\n",
    "\n",
    "\n"
   ]
  },
  {
   "cell_type": "code",
   "execution_count": 30,
   "metadata": {},
   "outputs": [],
   "source": [
    "new_matrix = np.array([\n",
    "    [2, -1, 0, 0],\n",
    "    [-1, 2, -1, 0],\n",
    "    [0, -1, 2, -1],\n",
    "    [0, 0, -1, 2]\n",
    "])"
   ]
  },
  {
   "cell_type": "code",
   "execution_count": 31,
   "metadata": {},
   "outputs": [
    {
     "name": "stdout",
     "output_type": "stream",
     "text": [
      "1\n",
      "2\n",
      "3\n",
      "4\n",
      "5\n",
      "6\n",
      "7\n",
      "8\n",
      "9\n",
      "10\n",
      "11\n",
      "12\n",
      "13\n",
      "14\n",
      "Resultado da projeção alternada:\n",
      "[[ 1.         -0.80841271  0.19158729  0.106775  ]\n",
      " [-0.80841271  1.         -0.65623329  0.19158729]\n",
      " [ 0.19158729 -0.65623329  1.         -0.80841271]\n",
      " [ 0.106775    0.19158729 -0.80841271  1.        ]]\n",
      "iteracao 1\n",
      "[[ 1.         -0.8084125   0.1915875   0.10677505]\n",
      " [-0.80841249  1.         -0.6562327   0.19158751]\n",
      " [ 0.19158751 -0.6562327   1.         -0.80841249]\n",
      " [ 0.10677505  0.1915875  -0.8084125   1.        ]]\n",
      "Resultado do sm_ncm:\n",
      "[[ 1.         -0.8084125   0.1915875   0.10677505]\n",
      " [-0.8084125   1.         -0.65623269  0.1915875 ]\n",
      " [ 0.1915875  -0.65623269  1.         -0.8084125 ]\n",
      " [ 0.10677505  0.1915875  -0.8084125   1.        ]]\n",
      "Número de iterações: 2\n"
     ]
    }
   ],
   "source": [
    "# Teste da função projeções alternadas com new_matrix\n",
    "X_new = projecoes_alternadas(new_matrix)\n",
    "print(\"Resultado da projeção alternada:\")\n",
    "print(X_new)\n",
    "\n",
    "# Teste da função sm_ncm com new_matrix\n",
    "X_sm_ncm, iter_sm_ncm = nearest_correlation_matrix(X_new, new_matrix, 1000, 1e-6)\n",
    "print(\"Resultado do sm_ncm:\")\n",
    "print(X_sm_ncm)\n",
    "print(\"Número de iterações:\", iter_sm_ncm)"
   ]
  }
 ],
 "metadata": {
  "kernelspec": {
   "display_name": "base",
   "language": "python",
   "name": "python3"
  },
  "language_info": {
   "codemirror_mode": {
    "name": "ipython",
    "version": 3
   },
   "file_extension": ".py",
   "mimetype": "text/x-python",
   "name": "python",
   "nbconvert_exporter": "python",
   "pygments_lexer": "ipython3",
   "version": "3.12.2"
  }
 },
 "nbformat": 4,
 "nbformat_minor": 2
}
