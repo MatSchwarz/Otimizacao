{
 "cells": [
  {
   "cell_type": "code",
   "execution_count": 58,
   "metadata": {},
   "outputs": [],
   "source": [
    "from func_auxiliares import *\n",
    "from SemismoothNewtonMethod import *\n",
    "import pandas as pd\n",
    "import numpy as np\n",
    "import scipy.stats\n",
    "from scipy import linalg"
   ]
  },
  {
   "cell_type": "code",
   "execution_count": 59,
   "metadata": {},
   "outputs": [],
   "source": [
    "def teste_solução(x,Q,q,tol):\n",
    "    if np.linalg.norm(proj_ortante(x) + T(Q)@x.T - b(T(Q),q)) < tol:\n",
    "        print(\"resolve\")\n",
    "    else: \n",
    "        print(\"não resolve\")"
   ]
  },
  {
   "cell_type": "code",
   "execution_count": 60,
   "metadata": {},
   "outputs": [],
   "source": [
    "#Aqui vamos gerar matrizes e vetores para testar\n",
    "#As matrizes Q precisam ser simétricas e definidas positivas\n",
    "#O vetor q só precisa pertencer aos reais \n",
    "\n",
    "def gera_matrizQ(n):\n",
    "    L = np.random.randn(n, n)  # L Matriz nxn\n",
    "    return np.dot(L, L.T)  # L * L^T é simétrica e semidefinida positiva\n",
    "\n",
    "def gera_vetorq(n):\n",
    "    q = np.random.rand(n)\n",
    "    return q\n",
    "\n"
   ]
  },
  {
   "cell_type": "code",
   "execution_count": 61,
   "metadata": {},
   "outputs": [
    {
     "data": {
      "text/plain": [
       "array([0.68517268, 0.40494201, 0.78068898, 0.14145377, 0.43496653])"
      ]
     },
     "execution_count": 61,
     "metadata": {},
     "output_type": "execute_result"
    }
   ],
   "source": [
    "gera_vetorq(5)"
   ]
  },
  {
   "cell_type": "code",
   "execution_count": 62,
   "metadata": {},
   "outputs": [
    {
     "ename": "NameError",
     "evalue": "name 'q' is not defined",
     "output_type": "error",
     "traceback": [
      "\u001b[0;31m---------------------------------------------------------------------------\u001b[0m",
      "\u001b[0;31mNameError\u001b[0m                                 Traceback (most recent call last)",
      "Cell \u001b[0;32mIn[62], line 2\u001b[0m\n\u001b[1;32m      1\u001b[0m n \u001b[38;5;241m=\u001b[39m \u001b[38;5;241m3\u001b[39m\n\u001b[0;32m----> 2\u001b[0m \u001b[43mNewton_Semismooth\u001b[49m\u001b[43m(\u001b[49m\u001b[43mgera_matrizQ\u001b[49m\u001b[43m(\u001b[49m\u001b[43mn\u001b[49m\u001b[43m)\u001b[49m\u001b[43m,\u001b[49m\u001b[43mgera_vetorq\u001b[49m\u001b[43m(\u001b[49m\u001b[43mn\u001b[49m\u001b[43m)\u001b[49m\u001b[43m,\u001b[49m\u001b[43mgera_vetorq\u001b[49m\u001b[43m(\u001b[49m\u001b[43mn\u001b[49m\u001b[43m)\u001b[49m\u001b[43m,\u001b[49m\u001b[38;5;241;43m0.00001\u001b[39;49m\u001b[43m)\u001b[49m\n",
      "File \u001b[0;32m~/Documents/Pesquisa/GitHub/Otimizacao/Método de Newton/SemismoothNewtonMethod.py:10\u001b[0m, in \u001b[0;36mNewton_Semismooth\u001b[0;34m(matriz_Q, vetor_q, x0, tol)\u001b[0m\n\u001b[1;32m      8\u001b[0m \u001b[38;5;28;01mdef\u001b[39;00m \u001b[38;5;21mNewton_Semismooth\u001b[39m(matriz_Q,vetor_q,x0,tol):\n\u001b[1;32m      9\u001b[0m     matriz_T \u001b[38;5;241m=\u001b[39m T(matriz_Q)\n\u001b[0;32m---> 10\u001b[0m     vetor_b \u001b[38;5;241m=\u001b[39m b(matriz_T,\u001b[43mq\u001b[49m)\u001b[38;5;241m.\u001b[39mT\n\u001b[1;32m     11\u001b[0m     x_depois \u001b[38;5;241m=\u001b[39m np\u001b[38;5;241m.\u001b[39mlinalg\u001b[38;5;241m.\u001b[39minv(Matriz_P(x0) \u001b[38;5;241m+\u001b[39m matriz_T)\u001b[38;5;129m@vetor_b\u001b[39m\n\u001b[1;32m     12\u001b[0m     criterio_parar \u001b[38;5;241m=\u001b[39m np\u001b[38;5;241m.\u001b[39mlinalg\u001b[38;5;241m.\u001b[39mnorm(np\u001b[38;5;241m.\u001b[39mdiag(Matriz_P(x_depois)) \u001b[38;5;241m-\u001b[39m \n\u001b[1;32m     13\u001b[0m                                     (np\u001b[38;5;241m.\u001b[39mdiag(Matriz_P(x0))))\n",
      "\u001b[0;31mNameError\u001b[0m: name 'q' is not defined"
     ]
    }
   ],
   "source": [
    "n = 3\n",
    "Newton_Semismooth(gera_matrizQ(n),gera_vetorq(n),gera_vetorq(n),0.00001)"
   ]
  },
  {
   "cell_type": "code",
   "execution_count": null,
   "metadata": {},
   "outputs": [
    {
     "data": {
      "text/plain": [
       "array([[ 3.46013127,  2.10831092,  0.60669238],\n",
       "       [ 2.10831092,  6.3958333 , -2.05161134],\n",
       "       [ 0.60669238, -2.05161134,  1.50077768]])"
      ]
     },
     "execution_count": 15,
     "metadata": {},
     "output_type": "execute_result"
    }
   ],
   "source": [
    "gera_matrizQ(3)"
   ]
  },
  {
   "cell_type": "code",
   "execution_count": null,
   "metadata": {},
   "outputs": [
    {
     "ename": "Exception",
     "evalue": "A matriz T precisa ser simétrica",
     "output_type": "error",
     "traceback": [
      "\u001b[0;31m---------------------------------------------------------------------------\u001b[0m",
      "\u001b[0;31mException\u001b[0m                                 Traceback (most recent call last)",
      "Cell \u001b[0;32mIn[22], line 1\u001b[0m\n\u001b[0;32m----> 1\u001b[0m scipy\u001b[38;5;241m.\u001b[39mlinalg\u001b[38;5;241m.\u001b[39missymmetric(\u001b[43mT\u001b[49m\u001b[43m(\u001b[49m\u001b[43mgera_matrizQ\u001b[49m\u001b[43m(\u001b[49m\u001b[38;5;241;43m4\u001b[39;49m\u001b[43m)\u001b[49m\u001b[43m)\u001b[49m)\n",
      "File \u001b[0;32m~/Documents/Pesquisa/GitHub/Otimizacao/Método de Newton/func_auxiliares.py:11\u001b[0m, in \u001b[0;36mT\u001b[0;34m(Q)\u001b[0m\n\u001b[1;32m      9\u001b[0m     \u001b[38;5;28;01mreturn\u001b[39;00m T\n\u001b[1;32m     10\u001b[0m \u001b[38;5;28;01melse\u001b[39;00m:\n\u001b[0;32m---> 11\u001b[0m     \u001b[38;5;28;01mraise\u001b[39;00m \u001b[38;5;167;01mException\u001b[39;00m(\u001b[38;5;124m\"\u001b[39m\u001b[38;5;124mA matriz T precisa ser simétrica\u001b[39m\u001b[38;5;124m\"\u001b[39m)\n",
      "\u001b[0;31mException\u001b[0m: A matriz T precisa ser simétrica"
     ]
    }
   ],
   "source": [
    "scipy.linalg.issymmetric(T(gera_matrizQ(4)))"
   ]
  },
  {
   "cell_type": "code",
   "execution_count": null,
   "metadata": {},
   "outputs": [],
   "source": []
  }
 ],
 "metadata": {
  "kernelspec": {
   "display_name": "base",
   "language": "python",
   "name": "python3"
  },
  "language_info": {
   "codemirror_mode": {
    "name": "ipython",
    "version": 3
   },
   "file_extension": ".py",
   "mimetype": "text/x-python",
   "name": "python",
   "nbconvert_exporter": "python",
   "pygments_lexer": "ipython3",
   "version": "3.12.2"
  }
 },
 "nbformat": 4,
 "nbformat_minor": 2
}
