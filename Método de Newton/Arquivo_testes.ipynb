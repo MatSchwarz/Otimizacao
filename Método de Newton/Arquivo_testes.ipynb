{
 "cells": [
  {
   "cell_type": "code",
   "execution_count": 1,
   "metadata": {},
   "outputs": [],
   "source": [
    "from func_auxiliares import *\n",
    "from SemismoothNewtonMethod import *\n",
    "import pandas as pd\n",
    "import numpy as np\n",
    "import scipy.stats\n",
    "from scipy import linalg\n",
    "import timeit"
   ]
  },
  {
   "cell_type": "code",
   "execution_count": 2,
   "metadata": {},
   "outputs": [],
   "source": [
    "def teste_solução(x,Q,q,tol):\n",
    "    if np.linalg.norm(proj_ortante(x) + T(Q)@x.T - b(T(Q),q)) < tol:\n",
    "        print(\"resolve\")\n",
    "    else: \n",
    "        print(\"não resolve\")"
   ]
  },
  {
   "cell_type": "code",
   "execution_count": 3,
   "metadata": {},
   "outputs": [],
   "source": [
    "#Aqui vamos gerar matrizes e vetores para testar\n",
    "#As matrizes Q precisam ser simétricas e definidas positivas\n",
    "#O vetor q só precisa pertencer aos reais \n",
    "\n",
    "def gera_matrizQ(n):\n",
    "    L = np.random.randn(n, n)  # L Matriz nxn\n",
    "    return np.dot(L, L.T)  # L * L^T é simétrica e semidefinida positiva\n",
    "\n",
    "def gera_vetorq(n):\n",
    "    q = np.random.rand(n)\n",
    "    return q\n",
    "\n"
   ]
  },
  {
   "cell_type": "code",
   "execution_count": 55,
   "metadata": {},
   "outputs": [
    {
     "name": "stdout",
     "output_type": "stream",
     "text": [
      "1.3 ms ± 212 μs per loop (mean ± std. dev. of 7 runs, 1,000 loops each)\n"
     ]
    }
   ],
   "source": [
    "#Teste de tempo\n",
    "def testar_newton_tempo(n,tol):\n",
    "    Q = gera_matrizQ(n)\n",
    "    q = gera_vetorq(n)\n",
    "    x0 = gera_vetorq(n)\n",
    "    x = Newton_Semismooth(Q,q,x0,tol)\n",
    "    return x\n",
    "\n",
    "%timeit testar_newton_tempo(100,0.00001)"
   ]
  },
  {
   "cell_type": "code",
   "execution_count": 60,
   "metadata": {},
   "outputs": [],
   "source": [
    "# Gerar as matrizes fora do bloco timeit\n",
    "n = 100\n",
    "laps = 100\n",
    "lista_Q = []\n",
    "lista_q = []\n",
    "lista_x0 = []\n",
    "for i in range(laps):\n",
    "    lista_Q.append(gera_matrizQ(n))\n",
    "    lista_q.append(gera_vetorq(n))\n",
    "    lista_x0.append(gera_vetorq(n))\n",
    "\n"
   ]
  },
  {
   "cell_type": "code",
   "execution_count": 61,
   "metadata": {},
   "outputs": [
    {
     "name": "stdout",
     "output_type": "stream",
     "text": [
      "9.59 ms ± 115 μs per loop (mean ± std. dev. of 7 runs, 100 loops each)\n"
     ]
    }
   ],
   "source": [
    "def mede_tempo(laps,lista_Q,lista_q,lista_x0):\n",
    "    for i in range(5):\n",
    "        x = Newton_Semismooth(lista_Q[i],lista_q[i],lista_x0[i],0.00001)\n",
    "\n",
    "%timeit mede_tempo(laps,lista_Q,lista_q,lista_x0)"
   ]
  },
  {
   "cell_type": "code",
   "execution_count": null,
   "metadata": {},
   "outputs": [],
   "source": []
  }
 ],
 "metadata": {
  "kernelspec": {
   "display_name": "base",
   "language": "python",
   "name": "python3"
  },
  "language_info": {
   "codemirror_mode": {
    "name": "ipython",
    "version": 3
   },
   "file_extension": ".py",
   "mimetype": "text/x-python",
   "name": "python",
   "nbconvert_exporter": "python",
   "pygments_lexer": "ipython3",
   "version": "3.12.2"
  }
 },
 "nbformat": 4,
 "nbformat_minor": 2
}
